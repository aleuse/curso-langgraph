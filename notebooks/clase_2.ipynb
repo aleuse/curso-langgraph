{
 "cells": [
  {
   "cell_type": "markdown",
   "id": "4085f5f3",
   "metadata": {},
   "source": [
    "## Pydantic y Typing"
   ]
  },
  {
   "cell_type": "markdown",
   "id": "a79c5989",
   "metadata": {},
   "source": [
    "El tipado (o type hinting) se utiliza en Python para declarar el tipo esperado de una variable, una entrada de función o una salida. Esto no solo mejora la legibilidad del código, sino que es la base para herramientas de validación como Pydantic"
   ]
  },
  {
   "cell_type": "markdown",
   "id": "d8484f73",
   "metadata": {},
   "source": [
    "### Tipos de Colecciones Comunes\n",
    "\n",
    "Estos tipos se usan para definir qué tipo de datos contiene una estructura:\n",
    "\n",
    "- str: Tipo string.\n",
    "  - nombre: str\n",
    "- int: Tipo entero.\n",
    "  - edad: int\n",
    "- bool: Tipo booleano.\n",
    "  - registrado: bool\n",
    "- List: para colecciones ordenadas.\n",
    "  - documentos: List[str]\n",
    "- Dict: Para mapeos clave-valor complejos.\n",
    "  - parametros: dict[str, int]\n",
    "- Optional: Indica que un valor puede ser de un tipo específico o None.\n",
    "  - peso: Optional[float]\n",
    "- Union: Define un valor que puede ser de uno o varios tipos diferentes.\n",
    "  - id: int | str\n",
    "- Literal: Permite especificar que una variable solo puede tomar un valor exacto de un conjunto de valores fijos.\n",
    "  - categoria: Literal[\"ciencia ficcion\", \"fantasia\"]\n"
   ]
  },
  {
   "cell_type": "markdown",
   "id": "b8d6e85f",
   "metadata": {},
   "source": [
    "###  ¿Qué es Pydantic?\n",
    "\n",
    "**Pydantic** es una biblioteca de Python que proporciona validación de datos en tiempo de ejecución utilizando las anotaciones de tipo estándar de Python. En términos sencillos, te permite **definir un esquema de datos** (un \"molde\") y luego asegura que los datos entrantes (como el estado) se ajusten a ese esquema.\n",
    "\n",
    "Su función principal es: **Validación y Configuración de Datos**.\n"
   ]
  },
  {
   "cell_type": "markdown",
   "id": "b6bf2039",
   "metadata": {},
   "source": [
    "### Uso Clave en LangGraph\n",
    "\n",
    "En LangGraph, la clase **`State`** (y otros esquemas como `InputState` y `OutputState`) se definen generalmente utilizando:\n",
    "\n",
    "- **`TypedDict`** (opción más común por rendimiento).\n",
    "- **Modelos Pydantic** (`BaseModel` o `dataclass`).\n",
    "\n",
    "Usar Pydantic garantiza que, si un nodo espera recibir un `documentos_relevantes` como una lista de strings, el sistema generará un error si recibe otra cosa (como un entero), previniendo fallos en el flujo del agente.\n"
   ]
  },
  {
   "cell_type": "markdown",
   "id": "4f76b79b",
   "metadata": {},
   "source": [
    "### Cómo Usar Pydantic para un Estado Básico\n",
    "\n",
    "Definir un esquema de estado con Pydantic es tan simple como crear una clase que herede de `BaseModel`."
   ]
  },
  {
   "cell_type": "code",
   "execution_count": null,
   "id": "2a7b8c8c",
   "metadata": {},
   "outputs": [],
   "source": [
    "from pydantic import BaseModel\n",
    "from typing import List, Optional\n",
    "\n",
    "# Definición del esquema del estado de nuestro agente\n",
    "class AgenteEstado(BaseModel):\n",
    "    # La pregunta inicial del usuario (str, obligatoria)\n",
    "    pregunta_usuario: str \n",
    "    \n",
    "    # Lista de resultados de búsqueda (str list, por defecto vacía)\n",
    "    documentos_encontrados: List[str] = [] \n",
    "    \n",
    "    # La respuesta final generada por el LLM (puede ser None al inicio)\n",
    "    respuesta_final: Optional[str] = None \n",
    "estado_ok = AgenteEstado(pregunta_usuario=\"¿Qué es LangGraph?\") # Esto es válido\n",
    "estado_error = AgenteEstado(pregunta_usuario=123) # Esto generaría un error de validación"
   ]
  },
  {
   "cell_type": "markdown",
   "id": "113a2b7e",
   "metadata": {},
   "source": [
    "## State, Schema, Reducers"
   ]
  },
  {
   "cell_type": "markdown",
   "id": "848c1349",
   "metadata": {},
   "source": [
    "### State\n",
    "\n",
    "Lo primero que hacemos al definir el grafo es definir el **State** del grafo. Este básicamente es el esquema del grafo, la información que se va a almacenar; además de funciones **reducer**, que especifican cómo se aplicarán los cambios al estado.\n",
    "\n",
    "El esquema del estado será el esquema de entrada de todos los nodos y aristas del grafo. Además, todos los nodos emitirán actualizaciones al estado, los cuales se aplicarán usando la función reducer especificada.\n",
    "\n",
    "La manera principal para definir el esquema del grafo es usando un `TypedDict`\n",
    "\n",
    "Por defecto, el grafo tendrá el mismo esquema de entrada y de salida, pero es posible especificar un esquema de entrada y también uno de salida."
   ]
  },
  {
   "cell_type": "markdown",
   "id": "d724029f",
   "metadata": {},
   "source": [
    "### Schema\n",
    "\n",
    "Típicamente, todos los nodos del grafo utilizan un mismo esquema, es decir, leen y actualizan el mismo State. Pero, hay casos donde se requiere mayor control y personalización, para ajustar el esquema dependiendo de lo que realice cada nodo. Es posible tener nodos que usan y actualizan estados privados."
   ]
  },
  {
   "cell_type": "code",
   "execution_count": null,
   "id": "e2146273",
   "metadata": {},
   "outputs": [],
   "source": [
    "from typing_extensions import TypedDict\n",
    "from langgraph.graph import StateGraph, START, END\n",
    "\n",
    "# 1. Estado de Entrada: Lo que el usuario nos da (la primera palabra).\n",
    "class InputState(TypedDict):\n",
    "    primera_palabra: str\n",
    "\n",
    "# 2. Estado de Salida: Lo que el grafo devuelve al final (la oración completa).\n",
    "class OutputState(TypedDict):\n",
    "    oracion_completa: str\n",
    "\n",
    "# 3. Estado General: El contexto central compartido.\n",
    "class OverallState(TypedDict):\n",
    "    # La palabra inicial que se heredó del InputState\n",
    "    primera_palabra: str\n",
    "    # Una variable que usamos para guardar el Sujeto de la oración\n",
    "    sujeto_oracion: str\n",
    "    # La variable que devolveremos al final\n",
    "    oracion_completa: str\n",
    "\n",
    "# 4. Estado Privado: Variables temporales para el nodo finalizar oración.\n",
    "class PrivateState(TypedDict):\n",
    "    # Canal para el verbo de la oración (temporal/privado)\n",
    "    verbo_oracion: str"
   ]
  },
  {
   "cell_type": "code",
   "execution_count": null,
   "id": "69fbb972",
   "metadata": {},
   "outputs": [],
   "source": [
    "# Node 1: Lee InputState y escribe OverallState\n",
    "def nodo_crear_sujeto(state: InputState) -> OverallState:\n",
    "    \"\"\"Lee la primera palabra y construye la frase del sujeto.\"\"\"\n",
    "    \n",
    "    # Lectura: Solo puede leer 'primera_palabra' de InputState\n",
    "    inicio = state[\"primera_palabra\"]\n",
    "    \n",
    "    # Lógica: Construye el sujeto\n",
    "    sujeto = inicio + \" El sol\"\n",
    "    print(f\"Node 1 (Sujeto): '{sujeto}'\")\n",
    "    \n",
    "    # Escritura: Retorna un diccionario que actualiza el OverallState\n",
    "    return {\"sujeto_oracion\": sujeto}\n",
    "\n",
    "# Node 2: Lee OverallState y ESCRIBE PrivateState (Crea el canal 'verbo_oracion')\n",
    "def nodo_agregar_verbo(state: OverallState) -> PrivateState:\n",
    "    \"\"\"Lee el sujeto y añade el verbo (escribe a un canal privado).\"\"\"\n",
    "    \n",
    "    # Lectura: Puede leer 'sujeto_oracion' de OverallState\n",
    "    sujeto = state[\"sujeto_oracion\"]\n",
    "    \n",
    "    # Lógica: Define el verbo basado en el sujeto\n",
    "    verbo = sujeto + \" brilla\"\n",
    "    print(f\"Node 2 (Verbo): '{verbo}'\")\n",
    "\n",
    "    # Escritura: Retorna un diccionario que se mapea al PrivateState.\n",
    "    # ¡Aquí se crea el canal 'verbo_oracion' en el estado del grafo!\n",
    "    return {\"verbo_oracion\": verbo} \n",
    "\n",
    "# Node 3: Lee PrivateState y escribe OutputState\n",
    "def nodo_finalizar_oracion(state: PrivateState) -> OutputState:\n",
    "    \"\"\"Lee el verbo del estado privado y construye la oración final.\"\"\"\n",
    "    \n",
    "    # Lectura: Solo puede leer 'verbo_oracion' de PrivateState\n",
    "    verbo_completo = state[\"verbo_oracion\"]\n",
    "    \n",
    "    # Lógica: Completa la oración con un predicado.\n",
    "    oracion = verbo_completo + \" en el cielo.\"\n",
    "    print(f\"Node 3 (Final): '{oracion}'\")\n",
    "    \n",
    "    # Escritura: Retorna el valor al canal 'oracion_completa' del OutputState.\n",
    "    return {\"oracion_completa\": oracion}"
   ]
  },
  {
   "cell_type": "code",
   "execution_count": null,
   "id": "99f9d58b",
   "metadata": {},
   "outputs": [],
   "source": [
    "# 1. Inicializar el constructor: Usamos OverallState como el esquema central.\n",
    "builder = StateGraph(\n",
    "    OverallState,\n",
    "    input_schema=InputState,\n",
    "    output_schema=OutputState\n",
    ")\n",
    "\n",
    "# 2. Añadir Nodos\n",
    "builder.add_node(\"node_1_sujeto\", nodo_crear_sujeto)\n",
    "builder.add_node(\"node_2_verbo\", nodo_agregar_verbo)\n",
    "builder.add_node(\"node_3_final\", nodo_finalizar_oracion)\n",
    "\n",
    "# 3. Definir las Aristas\n",
    "builder.add_edge(START, \"node_1_sujeto\")\n",
    "builder.add_edge(\"node_1_sujeto\", \"node_2_verbo\")\n",
    "builder.add_edge(\"node_2_verbo\", \"node_3_final\")\n",
    "builder.add_edge(\"node_3_final\", END)\n",
    "\n",
    "# 4. Compilar y Ejecutar\n",
    "graph = builder.compile()\n",
    "\n",
    "from IPython.display import Image, display\n",
    "try:\n",
    "    display(Image(graph.get_graph().draw_mermaid_png()))\n",
    "except Exception:\n",
    "    pass"
   ]
  },
  {
   "cell_type": "code",
   "execution_count": null,
   "id": "892736ad",
   "metadata": {},
   "outputs": [],
   "source": [
    "# La entrada solo necesita la clave del InputState: 'primera_palabra'\n",
    "entrada_usuario = {\"primera_palabra\": \"Hoy\"}\n",
    "print(f\"--- Ejecución con Entrada: {entrada_usuario} ---\")\n",
    "\n",
    "resultado = graph.invoke(entrada_usuario)\n",
    "\n",
    "print(\"\\nResultado Final del Grafo:\")\n",
    "print(resultado) "
   ]
  },
  {
   "cell_type": "markdown",
   "id": "fe53bae8",
   "metadata": {},
   "source": [
    "La magia de LangGraph reside en cómo une los diferentes esquemas que defines. Esto es lo que permite que el grafo evolucione el estado progresivamente.\n",
    "\n",
    "#### 1. ¿Por qué `nodo_crear_sujeto` puede escribir en `sujeto_oracion` (OverallState) si solo recibe `InputState`?\n",
    "\n",
    "* **El Estado del Grafo es una Unión:** Cuando inicializas el grafo con `builder = StateGraph(OverallState, input_schema=InputState, output_schema=OutputState)`, el **Estado Global del Grafo** se convierte en la **unión de todos estos esquemas**.\n",
    "* **Acceso Total para Escritura:** Un nodo (como `nodo_crear_sujeto`) solo necesita leer las claves que le pide su *input* (`primera_palabra` del `InputState`), pero tiene permiso para **escribir o actualizar cualquier canal** que exista en el estado global del grafo (`OverallState` o sus filtros).\n",
    "* **En el ejemplo:** El nodo recibe `{\"primera_palabra\": \"Hoy\"}` y lo usa para construir y **escribir** el canal `sujeto_oracion` en el `OverallState`, aunque `sujeto_oracion` no estuviera en su esquema de entrada.\n",
    "\n",
    "#### 2. ¿Cómo `nodo_agregar_verbo` puede escribir en `verbo_oracion` (PrivateState) si solo se inicializó con `OverallState`?\n",
    "\n",
    "* **Los Nodos Definen Canales Adicionales:** La inicialización de `StateGraph` define el *punto de partida* y los canales clave. Sin embargo, los nodos pueden **declarar canales adicionales** al retornar un tipo de dato que es un esquema (`TypedDict` o `BaseModel`) definido en tu código.\n",
    "* **Creación Dinámica de Canales:** En este caso, cuando `nodo_agregar_verbo` retorna un `PrivateState` con la clave `verbo_oracion`, LangGraph **añade** `verbo_oracion` como un nuevo canal al estado global. Este canal es ahora accesible por los nodos posteriores que lo requieran (como `nodo_finalizar_oracion`).\n",
    "* **En el ejemplo:** El canal `verbo_oracion` no existía al inicio, pero `nodo_agregar_verbo` lo crea al retornar `{\"verbo_oracion\": \"Hoy El sol brilla\"}`. El grafo acepta esta actualización y hace que ese canal sea parte de su memoria persistente para el resto de la ejecución. "
   ]
  },
  {
   "cell_type": "markdown",
   "id": "d4a76bcf",
   "metadata": {},
   "source": [
    "### Reducers\n",
    "\n",
    "Los reducers son funciones que se aplican al momento de actualizar el estado del grafo. Cada parámetro o llave en el estado tiene su propio reducer independiente. Si no se le asigna una explícitamente, por defecto se asume que el modo de actualización será **sobreescribir.**"
   ]
  },
  {
   "cell_type": "code",
   "execution_count": null,
   "id": "488a1f0c",
   "metadata": {},
   "outputs": [],
   "source": [
    "from typing import Annotated\n",
    "from typing_extensions import TypedDict\n",
    "from operator import add\n",
    "from langgraph.graph import StateGraph, START, END\n",
    "\n",
    "# Estado Central para nuestro Agente de Investigación\n",
    "class AgentState(TypedDict):\n",
    "    # CANAL 1: Contador de pasos (Default Reducer: SOBRESCRIBIR)\n",
    "    pasos_ejecutados: int \n",
    "    \n",
    "    # CANAL 2: Lista de hallazgos (Reducer Personalizado: CONCATENAR/SUMAR)\n",
    "    # Annotated le dice a LangGraph: \"Esto es una lista de strings, \n",
    "    # y usa 'add' (concatenación de listas) para combinar valores nuevos y viejos.\"\n",
    "    hallazgos_investigacion: Annotated[list[str], add] \n",
    "    # hallazgos_investigacion: list[str]"
   ]
  },
  {
   "cell_type": "code",
   "execution_count": null,
   "id": "e0f5a80d",
   "metadata": {},
   "outputs": [],
   "source": [
    "# Node 1: Simula el inicio de la investigación.\n",
    "def nodo_busqueda_inicial(state: AgentState) -> dict:\n",
    "    \"\"\"Busca en una fuente y actualiza ambos canales.\"\"\"\n",
    "    print(\"Node 1: Búsqueda inicial realizada.\")\n",
    "    \n",
    "    # Actualización del Canal 1 (pasos_ejecutados)\n",
    "    pasos = 1\n",
    "    \n",
    "    # Actualización del Canal 2 (hallazgos_investigacion)\n",
    "    hallazgos = [\"Definición de LangGraph (Fuente A)\"]\n",
    "    \n",
    "    return {\"pasos_ejecutados\": pasos, \"hallazgos_investigacion\": hallazgos}\n",
    "\n",
    "# Node 2: Simula una segunda búsqueda para complementar la información.\n",
    "def nodo_busqueda_complementaria(state: AgentState) -> dict:\n",
    "    \"\"\"Busca en una segunda fuente y actualiza ambos canales.\"\"\"\n",
    "    print(\"Node 2: Búsqueda complementaria realizada.\")\n",
    "    \n",
    "    # Actualización del Canal 1 (pasos_ejecutados)\n",
    "    pasos = 2 \n",
    "    \n",
    "    # Actualización del Canal 2 (hallazgos_investigacion)\n",
    "    # Este es el nuevo valor a combinar.\n",
    "    hallazgos = [\"Ejemplos de Reductores (Fuente B)\"]\n",
    "    \n",
    "    return {\"pasos_ejecutados\": pasos, \"hallazgos_investigacion\": hallazgos}"
   ]
  },
  {
   "cell_type": "code",
   "execution_count": null,
   "id": "2b4bff7c",
   "metadata": {},
   "outputs": [],
   "source": [
    "# 1. Inicializar el constructor con el esquema de estado\n",
    "builder = StateGraph(AgentState)\n",
    "\n",
    "# 2. Añadir Nodos\n",
    "builder.add_node(\"busqueda_1\", nodo_busqueda_inicial)\n",
    "builder.add_node(\"busqueda_2\", nodo_busqueda_complementaria)\n",
    "\n",
    "# 3. Definir las Aristas\n",
    "builder.add_edge(START, \"busqueda_1\")\n",
    "builder.add_edge(\"busqueda_1\", \"busqueda_2\")\n",
    "builder.add_edge(\"busqueda_2\", END) # Finalizamos para ver el resultado\n",
    "\n",
    "# 4. Compilar y Ejecutar\n",
    "graph = builder.compile()\n",
    "\n",
    "from IPython.display import Image, display\n",
    "try:\n",
    "    display(Image(graph.get_graph().draw_mermaid_png()))\n",
    "except Exception:\n",
    "    pass"
   ]
  },
  {
   "cell_type": "code",
   "execution_count": null,
   "id": "b14b67a2",
   "metadata": {},
   "outputs": [],
   "source": [
    "# Ejecución\n",
    "print(\"--- Ejecución del Flujo de Reductores ---\")\n",
    "\n",
    "resultado_final = graph.invoke({})\n",
    "\n",
    "print(\"\\nResultado Final del Estado:\")\n",
    "print(resultado_final)"
   ]
  },
  {
   "cell_type": "markdown",
   "id": "7f203d25",
   "metadata": {},
   "source": [
    "#### El Canal `pasos_ejecutados` (Comportamiento por Defecto: SOBRESCRIBIR)\n",
    "\n",
    "  * **Definición:** Este canal fue tipado como `int` y **no se le asignó un reductor** explícito con `Annotated`.\n",
    "  * **Actualización del Node 1:** `pasos_ejecutados` se establece en `1`.\n",
    "      * *Estado después del Node 1:* `{'pasos_ejecutados': 1, 'hallazgos_investigacion': ['...']}`\n",
    "  * **Actualización del Node 2:** El nodo retorna `{\"pasos_ejecutados\": 2}`. Como el modo es **sobrescribir**, el valor `2` reemplaza al valor `1`.\n",
    "  * **Resultado Final:** El valor de `pasos_ejecutados` es $\\mathbf{2}$.\n",
    "\n",
    "#### El Canal `hallazgos_investigacion` (Comportamiento Personalizado: CONCATENAR)\n",
    "\n",
    "  * **Definición:** Este canal fue tipado con `Annotated[list[str], add]`, donde `operator.add` para listas es la **concatenación**.\n",
    "  * **Actualización del Node 1:** El canal se establece en `['Definición...']`.\n",
    "      * *Estado después del Node 1:* `{'pasos_ejecutados': 1, 'hallazgos_investigacion': ['Definición de LangGraph (Fuente A)']}`\n",
    "  * **Actualización del Node 2:** El nodo retorna `{\"hallazgos_investigacion\": ['Ejemplos...']}`. LangGraph no sobrescribe; en su lugar, llama al reductor:\n",
    "    $$\\text{add} (\\text{Valor Viejo}, \\text{Valor Nuevo})$$\n",
    "    $$\\text{add} (['Definición...'], ['Ejemplos...']) \\rightarrow ['Definición...', 'Ejemplos...']$$\n",
    "  * **Resultado Final:** La lista contiene ambos elementos. Esto asegura que el agente **nunca olvide** los resultados de sus búsquedas previas, manteniendo una memoria acumulativa."
   ]
  },
  {
   "cell_type": "markdown",
   "id": "33683aa9",
   "metadata": {},
   "source": [
    "## Nodes"
   ]
  },
  {
   "cell_type": "markdown",
   "id": "67e36a6a",
   "metadata": {},
   "source": [
    "En LangGraph, un nodo no es más que una función de Python (tanto asincrónica como sincrónica) que acepta 3 argumentos:\n",
    "\n",
    "1. `state`: El estado del Grafo\n",
    "2. `config`: Un objeto de tipo `RunnableConfig` que contiene información de configuración como el `thread_id` e información de rastreo como  `tags`\n",
    "3. `runtime`: Un objeto de tipo `Runtime` que contiene información del contexto de la ejecución y también información como `store`y`stream_writer`\n",
    "\n",
    "Agregamos nodos al grafo usando el método `add_node`"
   ]
  },
  {
   "cell_type": "code",
   "execution_count": null,
   "id": "7f52e2b5",
   "metadata": {},
   "outputs": [],
   "source": [
    "# Node 1: Simula el inicio de la investigación.\n",
    "def nodo_busqueda_inicial(state: AgentState) -> dict:\n",
    "    \"\"\"Busca en una fuente y actualiza ambos canales.\"\"\"\n",
    "    print(\"Node 1: Búsqueda inicial realizada.\")\n",
    "    \n",
    "    # Actualización del Canal 1 (pasos_ejecutados)\n",
    "    pasos = 1\n",
    "    \n",
    "    # Actualización del Canal 2 (hallazgos_investigacion)\n",
    "    hallazgos = [\"Definición de LangGraph (Fuente A)\"]\n",
    "    \n",
    "    return {\"pasos_ejecutados\": pasos, \"hallazgos_investigacion\": hallazgos}\n",
    "\n",
    "# Node 2: Simula una segunda búsqueda para complementar la información.\n",
    "def nodo_busqueda_complementaria(state: AgentState) -> dict:\n",
    "    \"\"\"Busca en una segunda fuente y actualiza ambos canales.\"\"\"\n",
    "    print(\"Node 2: Búsqueda complementaria realizada.\")\n",
    "    \n",
    "    # Actualización del Canal 1 (pasos_ejecutados)\n",
    "    pasos = 2 \n",
    "    \n",
    "    # Actualización del Canal 2 (hallazgos_investigacion)\n",
    "    # Este es el nuevo valor a combinar.\n",
    "    hallazgos = [\"Ejemplos de Reductores (Fuente B)\"]\n",
    "    \n",
    "    return {\"pasos_ejecutados\": pasos, \"hallazgos_investigacion\": hallazgos}\n",
    "\n",
    "builder.add_node(\"busqueda_1\", nodo_busqueda_inicial)\n",
    "builder.add_node(\"busqueda_2\", nodo_busqueda_complementaria)"
   ]
  },
  {
   "cell_type": "markdown",
   "id": "e66b2847",
   "metadata": {},
   "source": [
    "### Start Node\n",
    "\n",
    "El nodo `START` es un nodo especial ya que representa el nodo que envía la entrada del usuario al grafo. Su propósito principal es determinar cuáles nodos deben llamarse primero."
   ]
  },
  {
   "cell_type": "markdown",
   "id": "2f60640e",
   "metadata": {},
   "source": [
    "### End Node\n",
    "\n",
    "El nodo `END` es un nodo especial ya que representa el final del grafo. Este nodo se utiliza para denotar que las aristas ya no tienen más acciones después de que se completan."
   ]
  },
  {
   "cell_type": "markdown",
   "id": "16c87096",
   "metadata": {},
   "source": [
    "## Edges"
   ]
  },
  {
   "cell_type": "markdown",
   "id": "5053e724",
   "metadata": {},
   "source": [
    "Las aristas definen la lógica de cómo se enruta el grafo y se decide cuándo parar. Esto es, en gran parte, saber cómo el flujo va a funcionar y cómo los nodos se comunicarán entre ellos.\n",
    "\n",
    "Existen los siguientes tipo de nodos:\n",
    "\n",
    "- Normales: Ir directamente de un nodo a otro nodo.\n",
    "- Condicionales: Llamar a una función para determinar a cuál(es) nodo(s) ir después.\n",
    "- Punto de entrada: Definir qué nodo llamar primero cuando llega la entrada del usuario.\n",
    "- Punto de entrada condicional: Llamar a una función para determinar a cuál(es) nodo(s) ir primero cuando llega la entrada del usuario.\n",
    "\n",
    "Un nodo puede tener múltiples aristas que salen de él. Si esto sucede, todos los nodos destino serán ejecutados en paralelo como parte del siguiente super-paso."
   ]
  },
  {
   "cell_type": "markdown",
   "id": "f51d6d2c",
   "metadata": {},
   "source": [
    "#### Normal Edges\n",
    "\n",
    "Si **siempre** quieres ir del nodo A al nodo B, entonces se puede usar el método `add_edge` directamente:"
   ]
  },
  {
   "cell_type": "code",
   "execution_count": null,
   "id": "a2f1d487",
   "metadata": {},
   "outputs": [],
   "source": [
    "graph.add_edge(\"node_a\", \"node_b\")"
   ]
  },
  {
   "cell_type": "markdown",
   "id": "3b17a96a",
   "metadata": {},
   "source": [
    "#### Conditional Edges\n",
    "\n",
    "Si queremos, de forma **opcional**, enrutar a 1 o más nodos, podemos usar el método `add_conditional_edges` . Este método acepta el nombre de un nombre y una función de enrutamiento a llamar luego de que el nodo se haya ejecutado."
   ]
  },
  {
   "cell_type": "code",
   "execution_count": null,
   "id": "0bf7bc5f",
   "metadata": {},
   "outputs": [],
   "source": [
    "graph.add_conditional_edges(\"node_a\", routing_function)"
   ]
  },
  {
   "cell_type": "markdown",
   "id": "7c90ca1f",
   "metadata": {},
   "source": [
    "Similar a los nodos, la función de enrutamiento acepta el estado actual del grafo y retorna un valor.\n",
    "\n",
    "Por defecto, el valor que retorna la función de enrutamiento es usado como el nombre del nodo (o la lista de nodos) para mandar el estado al siguiente nodo. Todos esos nodos correrán en paralelo como parte del siguiente super-paso.\n",
    "\n",
    "Opcionalmente, se puede proporcionar un diccionario que mapee la salida de la función de enrutamiento al nombre del siguiente nodo:"
   ]
  },
  {
   "cell_type": "code",
   "execution_count": null,
   "id": "5a5c46b5",
   "metadata": {},
   "outputs": [],
   "source": [
    "graph.add_conditional_edges(\"node_a\", routing_function, {True: \"node_b\", False: \"node_c\"})"
   ]
  },
  {
   "cell_type": "markdown",
   "id": "7b67aa5b",
   "metadata": {},
   "source": [
    "#### Entry Point\n",
    "\n",
    "El entry point es el primer nodo(s) que se ejecuta cuando comienza el grafo. Se puede usar el método `add_edge` desde el nodo `START` hasta el primer nodo a ejecutar al iniciar el grafo."
   ]
  },
  {
   "cell_type": "code",
   "execution_count": null,
   "id": "32f93e85",
   "metadata": {},
   "outputs": [],
   "source": [
    "from langgraph.graph import START\n",
    "\n",
    "graph.add_edge(START, \"node_a\")"
   ]
  },
  {
   "cell_type": "markdown",
   "id": "90a68f2f",
   "metadata": {},
   "source": [
    "#### Conditional Entry Point\n",
    "\n",
    "Un punto de entrada condicional permite empezar en diferentes nodos dependiendo de lógica personalizada. Se puede usar el método `add_conditional_edges` desde el nodo `START` para lograr esto."
   ]
  },
  {
   "cell_type": "code",
   "execution_count": null,
   "id": "aa56b798",
   "metadata": {},
   "outputs": [],
   "source": [
    "from langgraph.graph import START\n",
    "\n",
    "graph.add_conditional_edges(START, routing_function)"
   ]
  },
  {
   "cell_type": "markdown",
   "id": "6dad80e1",
   "metadata": {},
   "source": [
    "Opcionalmente, se puede proporcionar un diccionario que mapee la salida de la función de enrutamiento al nombre del siguiente nodo."
   ]
  },
  {
   "cell_type": "code",
   "execution_count": null,
   "id": "cdcc6c8a",
   "metadata": {},
   "outputs": [],
   "source": [
    "from typing import TypedDict, Literal\n",
    "from langgraph.graph import StateGraph, START, END\n",
    "\n",
    "# Estado que usa el grafo\n",
    "class AgentState(TypedDict):\n",
    "    pregunta: str\n",
    "    clasificacion: Literal[\"SIMPLE\", \"COMPLEJA\"]\n",
    "    respuesta: str\n",
    "    \n",
    "# Tipos de retorno para las funciones de enrutamiento\n",
    "RoutingDestination = Literal[\"responder_directo\", \"investigar\"]\n",
    "StartDestination = Literal[\"clasificar_simple\", \"clasificar_compleja\"]"
   ]
  },
  {
   "cell_type": "code",
   "execution_count": null,
   "id": "c73d58cf",
   "metadata": {},
   "outputs": [],
   "source": [
    "# Node 1: Simula una búsqueda/investigación\n",
    "def nodo_investigacion(state: AgentState) -> AgentState:\n",
    "    \"\"\"Simula una investigación y actualiza la respuesta.\"\"\"\n",
    "    print(\"-> Ejecutando Node: INVESTIGACIÓN (Tarea Compleja)\")\n",
    "    nueva_respuesta = f\"INVESTIGADO: La respuesta para '{state['pregunta']}' es detallada.\"\n",
    "    return {\"respuesta\": nueva_respuesta}\n",
    "\n",
    "# Node 2: Simula una respuesta simple y directa\n",
    "def nodo_responder_directo(state: AgentState) -> AgentState:\n",
    "    \"\"\"Genera una respuesta rápida sin investigación.\"\"\"\n",
    "    print(\"-> Ejecutando Node: RESPUESTA DIRECTA (Tarea Simple)\")\n",
    "    nueva_respuesta = f\"DIRECTO: La respuesta para '{state['pregunta']}' es concisa.\"\n",
    "    return {\"respuesta\": nueva_respuesta}"
   ]
  },
  {
   "cell_type": "code",
   "execution_count": null,
   "id": "aa1619d5",
   "metadata": {},
   "outputs": [],
   "source": [
    "# Función de Enrutamiento\n",
    "def enrutar_inicio(state: AgentState) -> StartDestination:\n",
    "    \"\"\"Decide el primer nodo a ejecutar basado en la pregunta inicial.\"\"\"\n",
    "    pregunta = state['pregunta']\n",
    "    if len(pregunta) > 20: # Pregunta larga va a clasificación compleja\n",
    "        return \"clasificar_compleja\"\n",
    "    else: # Pregunta corta va a clasificación simple\n",
    "        return \"clasificar_simple\"\n",
    "\n",
    "# Nodos para ser el target de enrutamiento (solo actualizan el estado)\n",
    "def clasificar_simple(state: AgentState) -> AgentState:\n",
    "    print(\"-> Enrutado a CLASIFICACIÓN SIMPLE.\")\n",
    "    return {\"clasificacion\": \"SIMPLE\"}\n",
    "\n",
    "def clasificar_compleja(state: AgentState) -> AgentState:\n",
    "    print(\"-> Enrutado a CLASIFICACIÓN COMPLEJA.\")\n",
    "    return {\"clasificacion\": \"COMPLEJA\"}"
   ]
  },
  {
   "cell_type": "code",
   "execution_count": null,
   "id": "a3411688",
   "metadata": {},
   "outputs": [],
   "source": [
    "def enrutar_tarea(state: AgentState) -> RoutingDestination:\n",
    "    \"\"\"Decide si la tarea necesita investigación o respuesta directa.\"\"\"\n",
    "    clasificacion = state.get('clasificacion')\n",
    "    \n",
    "    if clasificacion == \"COMPLEJA\":\n",
    "        return \"investigar\"\n",
    "    else:\n",
    "        # Si es SIMPLE (o no tiene una clasificación), responder directamente\n",
    "        return \"responder_directo\""
   ]
  },
  {
   "cell_type": "code",
   "execution_count": null,
   "id": "1bedf0f5",
   "metadata": {},
   "outputs": [],
   "source": [
    "# 1. Inicializar el constructor\n",
    "builder = StateGraph(AgentState)\n",
    "\n",
    "# 2. Añadir Nodos\n",
    "builder.add_node(\"clasificar_simple\", clasificar_simple)\n",
    "builder.add_node(\"clasificar_compleja\", clasificar_compleja)\n",
    "builder.add_node(\"investigar\", nodo_investigacion)\n",
    "builder.add_node(\"responder_directo\", nodo_responder_directo)\n",
    "\n",
    "# 3. Definir las Aristas (Edges)\n",
    "\n",
    "# A. Entry Point Condicional\n",
    "# La primera ejecución se dirige según 'enrutar_inicio', que mapea a los nodos de clasificación.\n",
    "builder.add_conditional_edges(\n",
    "    START, \n",
    "    enrutar_inicio, \n",
    "    {\n",
    "        \"clasificar_simple\": \"clasificar_simple\", \n",
    "        \"clasificar_compleja\": \"clasificar_compleja\"\n",
    "    }\n",
    ")\n",
    "\n",
    "# B. Edges Condicionales\n",
    "# Después de clasificar (simple o compleja), usamos una función para decidir el flujo.\n",
    "builder.add_conditional_edges(\n",
    "\t\"clasificar_simple\", \n",
    "\tenrutar_tarea, \n",
    "\t{\n",
    "\t\t\"investigar\": \"investigar\", \n",
    "\t\t\"responder_directo\": \"responder_directo\"\n",
    "    }\n",
    ")\n",
    "builder.add_conditional_edges(\n",
    "    \"clasificar_compleja\",\n",
    "    enrutar_tarea, \n",
    "    {\n",
    "        \"investigar\": \"investigar\", \n",
    "        \"responder_directo\": \"responder_directo\"\n",
    "\t}\n",
    ")\n",
    "\n",
    "# C. Edges Normales (Salida)\n",
    "# Una vez que se responde o investiga, el flujo termina.\n",
    "builder.add_edge(\"investigar\", END)\n",
    "builder.add_edge(\"responder_directo\", END)\n",
    "\n",
    "\n",
    "# 4. Compilar y Ejecutar\n",
    "graph = builder.compile()\n",
    "\n",
    "from IPython.display import Image, display\n",
    "try:\n",
    "    display(Image(graph.get_graph().draw_mermaid_png()))\n",
    "except Exception:\n",
    "    pass"
   ]
  },
  {
   "cell_type": "code",
   "execution_count": null,
   "id": "339ef3d2",
   "metadata": {},
   "outputs": [],
   "source": [
    "# --- Ejecución 1: Pregunta Corta (Flujo Simple) ---\n",
    "pregunta_corta = \"Hola.\"\n",
    "print(f\"--- Ejecución 1: Pregunta: '{pregunta_corta}' (Flujo SIMPLE) ---\")\n",
    "resultado_corta = graph.invoke({\"pregunta\": pregunta_corta})\n",
    "print(\"\\nResultado Final (Corta):\", resultado_corta)"
   ]
  },
  {
   "cell_type": "code",
   "execution_count": null,
   "id": "5a31613e",
   "metadata": {},
   "outputs": [],
   "source": [
    "# --- Ejecución 2: Pregunta Larga (Flujo Complejo) ---\n",
    "pregunta_larga = \"Explica en detalle cómo el mecanismo de atención del Transformer impacta en la ventana de contexto.\"\n",
    "print(f\"--- Ejecución 2: Pregunta: '{pregunta_larga[:40]}...' (Flujo COMPLEJO) ---\")\n",
    "resultado_larga = graph.invoke({\"pregunta\": pregunta_larga})\n",
    "print(\"\\nResultado Final (Larga):\", resultado_larga)"
   ]
  }
 ],
 "metadata": {
  "kernelspec": {
   "display_name": ".venv",
   "language": "python",
   "name": "python3"
  },
  "language_info": {
   "codemirror_mode": {
    "name": "ipython",
    "version": 3
   },
   "file_extension": ".py",
   "mimetype": "text/x-python",
   "name": "python",
   "nbconvert_exporter": "python",
   "pygments_lexer": "ipython3",
   "version": "3.11.12"
  }
 },
 "nbformat": 4,
 "nbformat_minor": 5
}
